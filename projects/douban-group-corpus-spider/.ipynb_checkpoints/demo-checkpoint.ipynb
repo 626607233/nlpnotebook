{
 "cells": [
  {
   "cell_type": "code",
   "execution_count": 17,
   "metadata": {},
   "outputs": [],
   "source": [
    "# coding: utf-8\n",
    "\n",
    "import pandas as pd\n",
    "from bs4 import BeautifulSoup\n",
    "from config import GROUP_DICT, MAX_PAGE, SQL_DICT, HEADERS, PROXY_POOL_URL, MAX_GET_RETRY, OUTPUT_PATH\n",
    "from base import _Sql_Base\n",
    "import requests\n",
    "import emoji\n",
    "import time\n",
    "import random\n",
    "import logging\n",
    "import os\n",
    "\n",
    "class HTTPError(Exception):\n",
    "\n",
    "    \"\"\" HTTP状态码不是200异常 \"\"\"\n",
    "\n",
    "    def __init__(self, status_code, url):\n",
    "        self.status_code = status_code\n",
    "        self.url = url\n",
    "\n",
    "    def __str__(self):\n",
    "        return \"%s HTTP %s\" % (self.url, self.status_code)\n",
    "    \n",
    "def get_logger(name):\n",
    "    \"\"\"logger\n",
    "    \"\"\"\n",
    "    default_logger = logging.getLogger(name)\n",
    "    default_logger.setLevel(logging.DEBUG)\n",
    "    stream = logging.StreamHandler()\n",
    "    stream.setLevel(logging.DEBUG)\n",
    "    formatter = logging.Formatter(\"[%(levelname)s] %(asctime)s - %(message)s\")\n",
    "    stream.setFormatter(formatter)\n",
    "    default_logger.addHandler(stream)\n",
    "    return default_logger\n",
    "    \n",
    "\n",
    "class Douban_corpus_spider(_Sql_Base):\n",
    "\n",
    "    def __init__(self, is_proxy = False):\n",
    "\n",
    "        self.GROUP_DICT = GROUP_DICT\n",
    "        self.MAX_PAGE = MAX_PAGE\n",
    "        self.sql_engine = self.create_engine(SQL_DICT)\n",
    "        self.is_proxy = is_proxy\n",
    "        if is_proxy:\n",
    "            self.proxyIP = self.get_proxy()\n",
    "        self.logger = get_logger(\"douban_spider\")\n",
    "            \n",
    "    def request_douban(self, url):\n",
    "\n",
    "        headers = {\n",
    "            'User-Agent': HEADERS\n",
    "        }\n",
    "        for i in range(MAX_GET_RETRY):\n",
    "            try:\n",
    "                if self.is_proxy:\n",
    "                    proxyIP = self.proxyIP\n",
    "                    proxies = {\n",
    "                        'http' : proxyIP,\n",
    "                        'https': proxyIP\n",
    "                    }\n",
    "                    response = requests.get(url, proxies=proxies, headers=headers)\n",
    "                else:\n",
    "                    response = requests.get(url, headers=headers)\n",
    "                if response.status_code != 200:\n",
    "                    raise HTTPError(response.status_code, url)\n",
    "                else:\n",
    "                    print('proxy: %s sucessfully get data from %s' %(self.proxyIP, url))\n",
    "                break\n",
    "            except Exception as exc:\n",
    "                self.logger.warn(\"%s %d failed!\\n%s\", url, i, str(exc))\n",
    "                if self.is_proxy:\n",
    "                    self.proxyIP = self.get_proxy()\n",
    "                continue\n",
    "        return response.text\n",
    "    \n",
    "    # 从代理池中随机取出一个IP\n",
    "    def get_proxy(self):\n",
    "        try:\n",
    "            response = requests.get(PROXY_POOL_URL)\n",
    "            if response.status_code == 200:\n",
    "                print('proxy: %s' %response.text)\n",
    "                return \"http://%s\" %response.text\n",
    "        except ConnectionError:\n",
    "            return None\n",
    "\n",
    "    def spider_links(self, group, page):\n",
    "        url = '{}discussion?start={}'.format(self.GROUP_DICT[group], str(page*25))\n",
    "        html = self.request_douban(url)\n",
    "        soup = BeautifulSoup(html, 'lxml')\n",
    "        list_ = soup.find(class_='olt').find_all('tr')\n",
    "        page_link = []; page_title = []\n",
    "        for item in list_:\n",
    "            try:\n",
    "                page_link.append(item.find('a').get('href'))\n",
    "                page_title.append(item.find('a').get('title'))\n",
    "            except:\n",
    "                continue\n",
    "        return page_link, page_title\n",
    "\n",
    "    def spider_page(self, url):\n",
    "        html = self.request_douban(url)\n",
    "        soup = BeautifulSoup(html, 'lxml')\n",
    "        for item in soup.find(type=\"application/ld+json\"):\n",
    "            try:\n",
    "                page_author_diag = json.loads(item)['text']\n",
    "            except:\n",
    "                page_author_diag = ''\n",
    "        list_ = soup.find_all(class_='clearfix comment-item reply-item')\n",
    "        page_comments = []\n",
    "        for item in list_:\n",
    "            try:\n",
    "                page_comments.append(item.find('p').contents[0])\n",
    "            except:\n",
    "                continue\n",
    "        return page_author_diag, page_comments\n",
    "\n",
    "    def spider_group(self, group):\n",
    "        spider_outputs = {}\n",
    "        link_list = []\n",
    "        title_list = []\n",
    "        for page in range(self.MAX_PAGE):\n",
    "            link_list_page, title_list_page = self.spider_links(group, page)\n",
    "            link_list = link_list + link_list_page\n",
    "            title_list = title_list + title_list_page\n",
    "        for link in link_list:\n",
    "            spider_outputs[link] = {}\n",
    "            spider_outputs[link]['title'] = title_list[link_list.index(link)]\n",
    "            spider_outputs[link]['author_diag'], spider_outputs[link]['comments'] = self.spider_page(link)\n",
    "            try:\n",
    "                self.json_write(spider_outputs, os.path.join(OUTPUT_PATH, '{}.json'.format(group)))\n",
    "            except:\n",
    "                del spider_outputs[link]\n",
    "        return spider_outputs\n",
    "\n",
    "    def group_dict_transfer(self, output_dict):\n",
    "        data = pd.DataFrame(output_dict).T\n",
    "        data['link'] = data.index\n",
    "        data = data.reset_index(drop = True)[['link','title','author_diag','comments']]\n",
    "        def comments_sub(a):\n",
    "            b = ''\n",
    "            for item in a:\n",
    "                b = item + '|' + b\n",
    "            return b\n",
    "        data['comments'] = data['comments'].apply(comments_sub)\n",
    "        for col in ['title','author_diag','comments']:\n",
    "            data[col] = data[col].apply(emoji.demojize)\n",
    "        return data\n",
    "\n",
    "    def run(self):\n",
    "        for group in self.GROUP_DICT.keys():\n",
    "            output_dict = self.spider_group(group)\n",
    "            output_table = self.group_dict_transfer(output_dict)\n",
    "            self.table_save(output_table, group)"
   ]
  },
  {
   "cell_type": "code",
   "execution_count": null,
   "metadata": {
    "scrolled": false
   },
   "outputs": [
    {
     "name": "stdout",
     "output_type": "stream",
     "text": [
      "proxy: 61.183.176.122:57210\n",
      "proxy: http://61.183.176.122:57210 sucessfully get data from https://www.douban.com/group/kuakua/discussion?start=0\n",
      "proxy: http://61.183.176.122:57210 sucessfully get data from https://www.douban.com/group/kuakua/discussion?start=25\n",
      "proxy: http://61.183.176.122:57210 sucessfully get data from https://www.douban.com/group/kuakua/discussion?start=50\n"
     ]
    },
    {
     "name": "stderr",
     "output_type": "stream",
     "text": [
      "C:\\Users\\kenshinpg\\Anaconda3\\lib\\site-packages\\ipykernel_launcher.py:72: DeprecationWarning: The 'warn' method is deprecated, use 'warning' instead\n",
      "[WARNING] 2019-05-29 18:30:36,732 - https://www.douban.com/group/kuakua/discussion?start=75 0 failed!\n",
      "HTTPSConnectionPool(host='www.douban.com', port=443): Max retries exceeded with url: /group/kuakua/discussion?start=75 (Caused by ProxyError('Cannot connect to proxy.', NewConnectionError('<urllib3.connection.VerifiedHTTPSConnection object at 0x00000233CE1039E8>: Failed to establish a new connection: [WinError 10060] 由于连接方在一段时间后没有正确答复或连接的主机没有反应，连接尝试失败。',)))\n"
     ]
    },
    {
     "name": "stdout",
     "output_type": "stream",
     "text": [
      "proxy: 31.43.18.182:8080\n"
     ]
    },
    {
     "name": "stderr",
     "output_type": "stream",
     "text": [
      "[WARNING] 2019-05-29 18:30:58,749 - https://www.douban.com/group/kuakua/discussion?start=75 1 failed!\n",
      "HTTPSConnectionPool(host='www.douban.com', port=443): Max retries exceeded with url: /group/kuakua/discussion?start=75 (Caused by ProxyError('Cannot connect to proxy.', NewConnectionError('<urllib3.connection.VerifiedHTTPSConnection object at 0x00000233CE103E10>: Failed to establish a new connection: [WinError 10060] 由于连接方在一段时间后没有正确答复或连接的主机没有反应，连接尝试失败。',)))\n"
     ]
    },
    {
     "name": "stdout",
     "output_type": "stream",
     "text": [
      "proxy: 49.83.59.250:53281\n",
      "proxy: http://49.83.59.250:53281 sucessfully get data from https://www.douban.com/group/kuakua/discussion?start=75\n",
      "proxy: http://49.83.59.250:53281 sucessfully get data from https://www.douban.com/group/kuakua/discussion?start=100\n"
     ]
    },
    {
     "name": "stderr",
     "output_type": "stream",
     "text": [
      "[WARNING] 2019-05-29 18:31:02,717 - https://www.douban.com/group/kuakua/discussion?start=125 0 failed!\n",
      "HTTPSConnectionPool(host='www.douban.com', port=443): Max retries exceeded with url: /group/kuakua/discussion?start=125 (Caused by ProxyError('Cannot connect to proxy.', ConnectionResetError(10054, '远程主机强迫关闭了一个现有的连接。', None, 10054, None)))\n"
     ]
    },
    {
     "name": "stdout",
     "output_type": "stream",
     "text": [
      "proxy: 117.254.219.177:8080\n",
      "proxy: http://117.254.219.177:8080 sucessfully get data from https://www.douban.com/group/kuakua/discussion?start=125\n"
     ]
    },
    {
     "name": "stderr",
     "output_type": "stream",
     "text": [
      "[WARNING] 2019-05-29 18:31:25,980 - https://www.douban.com/group/kuakua/discussion?start=150 0 failed!\n",
      "HTTPSConnectionPool(host='www.douban.com', port=443): Max retries exceeded with url: /group/kuakua/discussion?start=150 (Caused by ProxyError('Cannot connect to proxy.', RemoteDisconnected('Remote end closed connection without response',)))\n"
     ]
    },
    {
     "name": "stdout",
     "output_type": "stream",
     "text": [
      "proxy: 49.83.59.250:53281\n",
      "proxy: http://49.83.59.250:53281 sucessfully get data from https://www.douban.com/group/kuakua/discussion?start=150\n",
      "proxy: http://49.83.59.250:53281 sucessfully get data from https://www.douban.com/group/kuakua/discussion?start=175\n",
      "proxy: http://49.83.59.250:53281 sucessfully get data from https://www.douban.com/group/kuakua/discussion?start=200\n",
      "proxy: http://49.83.59.250:53281 sucessfully get data from https://www.douban.com/group/kuakua/discussion?start=225\n",
      "proxy: http://49.83.59.250:53281 sucessfully get data from https://www.douban.com/group/kuakua/discussion?start=250\n",
      "proxy: http://49.83.59.250:53281 sucessfully get data from https://www.douban.com/group/kuakua/discussion?start=275\n",
      "proxy: http://49.83.59.250:53281 sucessfully get data from https://www.douban.com/group/kuakua/discussion?start=300\n",
      "proxy: http://49.83.59.250:53281 sucessfully get data from https://www.douban.com/group/kuakua/discussion?start=325\n",
      "proxy: http://49.83.59.250:53281 sucessfully get data from https://www.douban.com/group/kuakua/discussion?start=350\n",
      "proxy: http://49.83.59.250:53281 sucessfully get data from https://www.douban.com/group/kuakua/discussion?start=375\n",
      "proxy: http://49.83.59.250:53281 sucessfully get data from https://www.douban.com/group/kuakua/discussion?start=400\n",
      "proxy: http://49.83.59.250:53281 sucessfully get data from https://www.douban.com/group/kuakua/discussion?start=425\n",
      "proxy: http://49.83.59.250:53281 sucessfully get data from https://www.douban.com/group/kuakua/discussion?start=450\n"
     ]
    },
    {
     "name": "stderr",
     "output_type": "stream",
     "text": [
      "[WARNING] 2019-05-29 18:32:09,535 - https://www.douban.com/group/kuakua/discussion?start=475 0 failed!\n",
      "HTTPSConnectionPool(host='www.douban.com', port=443): Max retries exceeded with url: /group/kuakua/discussion?start=475 (Caused by ProxyError('Cannot connect to proxy.', RemoteDisconnected('Remote end closed connection without response',)))\n"
     ]
    },
    {
     "name": "stdout",
     "output_type": "stream",
     "text": [
      "proxy: 117.241.97.251:60375\n"
     ]
    },
    {
     "name": "stderr",
     "output_type": "stream",
     "text": [
      "[WARNING] 2019-05-29 18:32:23,359 - https://www.douban.com/group/kuakua/discussion?start=475 1 failed!\n",
      "HTTPSConnectionPool(host='www.douban.com', port=443): Max retries exceeded with url: /group/kuakua/discussion?start=475 (Caused by ProxyError('Cannot connect to proxy.', RemoteDisconnected('Remote end closed connection without response',)))\n"
     ]
    },
    {
     "name": "stdout",
     "output_type": "stream",
     "text": [
      "proxy: 36.89.99.90:8080\n",
      "proxy: http://36.89.99.90:8080 sucessfully get data from https://www.douban.com/group/kuakua/discussion?start=475\n",
      "proxy: http://36.89.99.90:8080 sucessfully get data from https://www.douban.com/group/topic/141890698/\n",
      "proxy: http://36.89.99.90:8080 sucessfully get data from https://www.douban.com/group/topic/141903603/\n",
      "proxy: http://36.89.99.90:8080 sucessfully get data from https://www.douban.com/group/topic/141902457/\n",
      "proxy: http://36.89.99.90:8080 sucessfully get data from https://www.douban.com/group/topic/141898605/\n",
      "proxy: http://36.89.99.90:8080 sucessfully get data from https://www.douban.com/group/topic/141892860/\n",
      "proxy: http://36.89.99.90:8080 sucessfully get data from https://www.douban.com/group/topic/141895952/\n",
      "proxy: http://36.89.99.90:8080 sucessfully get data from https://www.douban.com/group/topic/141864306/\n",
      "proxy: http://36.89.99.90:8080 sucessfully get data from https://www.douban.com/group/topic/141846999/\n",
      "proxy: http://36.89.99.90:8080 sucessfully get data from https://www.douban.com/group/topic/141857803/\n"
     ]
    },
    {
     "name": "stderr",
     "output_type": "stream",
     "text": [
      "[WARNING] 2019-05-29 18:33:47,249 - https://www.douban.com/group/topic/141562214/ 0 failed!\n",
      "HTTPSConnectionPool(host='www.douban.com', port=443): Max retries exceeded with url: /group/topic/141562214/ (Caused by ProxyError('Cannot connect to proxy.', RemoteDisconnected('Remote end closed connection without response',)))\n"
     ]
    },
    {
     "name": "stdout",
     "output_type": "stream",
     "text": [
      "proxy: 182.253.175.208:8080\n"
     ]
    },
    {
     "name": "stderr",
     "output_type": "stream",
     "text": [
      "[WARNING] 2019-05-29 18:34:09,266 - https://www.douban.com/group/topic/141562214/ 1 failed!\n",
      "HTTPSConnectionPool(host='www.douban.com', port=443): Max retries exceeded with url: /group/topic/141562214/ (Caused by ProxyError('Cannot connect to proxy.', NewConnectionError('<urllib3.connection.VerifiedHTTPSConnection object at 0x00000233CE815E80>: Failed to establish a new connection: [WinError 10060] 由于连接方在一段时间后没有正确答复或连接的主机没有反应，连接尝试失败。',)))\n"
     ]
    },
    {
     "name": "stdout",
     "output_type": "stream",
     "text": [
      "proxy: 138.197.65.120:80\n"
     ]
    },
    {
     "name": "stderr",
     "output_type": "stream",
     "text": [
      "[WARNING] 2019-05-29 18:34:11,121 - https://www.douban.com/group/topic/141562214/ 2 failed!\n",
      "HTTPSConnectionPool(host='www.douban.com', port=443): Max retries exceeded with url: /group/topic/141562214/ (Caused by ProxyError('Cannot connect to proxy.', OSError('Tunnel connection failed: 500 Internal Server Error',)))\n"
     ]
    },
    {
     "name": "stdout",
     "output_type": "stream",
     "text": [
      "proxy: 36.89.99.90:8080\n"
     ]
    },
    {
     "name": "stderr",
     "output_type": "stream",
     "text": [
      "[WARNING] 2019-05-29 18:34:33,138 - https://www.douban.com/group/topic/141562214/ 3 failed!\n",
      "HTTPSConnectionPool(host='www.douban.com', port=443): Max retries exceeded with url: /group/topic/141562214/ (Caused by ProxyError('Cannot connect to proxy.', NewConnectionError('<urllib3.connection.VerifiedHTTPSConnection object at 0x00000233CE8346A0>: Failed to establish a new connection: [WinError 10060] 由于连接方在一段时间后没有正确答复或连接的主机没有反应，连接尝试失败。',)))\n"
     ]
    },
    {
     "name": "stdout",
     "output_type": "stream",
     "text": [
      "proxy: 5.45.125.243:3128\n",
      "proxy: http://5.45.125.243:3128 sucessfully get data from https://www.douban.com/group/topic/141562214/\n",
      "proxy: http://5.45.125.243:3128 sucessfully get data from https://www.douban.com/group/topic/141861358/\n",
      "proxy: http://5.45.125.243:3128 sucessfully get data from https://www.douban.com/group/topic/141824716/\n",
      "proxy: http://5.45.125.243:3128 sucessfully get data from https://www.douban.com/group/topic/141853547/\n",
      "proxy: http://5.45.125.243:3128 sucessfully get data from https://www.douban.com/group/topic/141746144/\n",
      "proxy: http://5.45.125.243:3128 sucessfully get data from https://www.douban.com/group/topic/141718930/\n",
      "proxy: http://5.45.125.243:3128 sucessfully get data from https://www.douban.com/group/topic/141761564/\n",
      "proxy: http://5.45.125.243:3128 sucessfully get data from https://www.douban.com/group/topic/141760634/\n",
      "proxy: http://5.45.125.243:3128 sucessfully get data from https://www.douban.com/group/topic/141568604/\n",
      "proxy: http://5.45.125.243:3128 sucessfully get data from https://www.douban.com/group/topic/141842367/\n",
      "proxy: http://5.45.125.243:3128 sucessfully get data from https://www.douban.com/group/topic/141524349/\n",
      "proxy: http://5.45.125.243:3128 sucessfully get data from https://www.douban.com/group/topic/141621778/\n",
      "proxy: http://5.45.125.243:3128 sucessfully get data from https://www.douban.com/group/topic/141842973/\n",
      "proxy: http://5.45.125.243:3128 sucessfully get data from https://www.douban.com/group/topic/141672932/\n",
      "proxy: http://5.45.125.243:3128 sucessfully get data from https://www.douban.com/group/topic/141872285/\n",
      "proxy: http://5.45.125.243:3128 sucessfully get data from https://www.douban.com/group/topic/141891603/\n",
      "proxy: http://5.45.125.243:3128 sucessfully get data from https://www.douban.com/group/topic/141899349/\n",
      "proxy: http://5.45.125.243:3128 sucessfully get data from https://www.douban.com/group/topic/141745091/\n",
      "proxy: http://5.45.125.243:3128 sucessfully get data from https://www.douban.com/group/topic/141827890/\n",
      "proxy: http://5.45.125.243:3128 sucessfully get data from https://www.douban.com/group/topic/141801891/\n"
     ]
    },
    {
     "name": "stderr",
     "output_type": "stream",
     "text": [
      "[WARNING] 2019-05-29 18:35:59,224 - https://www.douban.com/group/topic/141857325/ 0 failed!\n",
      "HTTPSConnectionPool(host='www.douban.com', port=443): Max retries exceeded with url: /group/topic/141857325/ (Caused by ProxyError('Cannot connect to proxy.', NewConnectionError('<urllib3.connection.VerifiedHTTPSConnection object at 0x00000233D08EB898>: Failed to establish a new connection: [WinError 10060] 由于连接方在一段时间后没有正确答复或连接的主机没有反应，连接尝试失败。',)))\n"
     ]
    },
    {
     "name": "stdout",
     "output_type": "stream",
     "text": [
      "proxy: 46.201.249.7:51137\n"
     ]
    },
    {
     "name": "stderr",
     "output_type": "stream",
     "text": [
      "[WARNING] 2019-05-29 18:36:21,238 - https://www.douban.com/group/topic/141857325/ 1 failed!\n",
      "HTTPSConnectionPool(host='www.douban.com', port=443): Max retries exceeded with url: /group/topic/141857325/ (Caused by ProxyError('Cannot connect to proxy.', NewConnectionError('<urllib3.connection.VerifiedHTTPSConnection object at 0x00000233D08F6CF8>: Failed to establish a new connection: [WinError 10060] 由于连接方在一段时间后没有正确答复或连接的主机没有反应，连接尝试失败。',)))\n"
     ]
    },
    {
     "name": "stdout",
     "output_type": "stream",
     "text": [
      "proxy: 188.32.20.79:8197\n"
     ]
    },
    {
     "name": "stderr",
     "output_type": "stream",
     "text": [
      "[WARNING] 2019-05-29 18:36:22,999 - https://www.douban.com/group/topic/141857325/ 2 failed!\n",
      "('Connection aborted.', BadStatusLine('<html>\\r\\n',))\n"
     ]
    },
    {
     "name": "stdout",
     "output_type": "stream",
     "text": [
      "proxy: 60.216.101.46:32868\n"
     ]
    },
    {
     "name": "stderr",
     "output_type": "stream",
     "text": [
      "[WARNING] 2019-05-29 18:36:24,552 - https://www.douban.com/group/topic/141857325/ 3 failed!\n",
      "https://www.douban.com/group/topic/141857325/ HTTP 403\n"
     ]
    },
    {
     "name": "stdout",
     "output_type": "stream",
     "text": [
      "proxy: 165.22.135.225:8080\n"
     ]
    },
    {
     "name": "stderr",
     "output_type": "stream",
     "text": [
      "[WARNING] 2019-05-29 18:36:26,179 - https://www.douban.com/group/topic/141857325/ 4 failed!\n",
      "HTTPSConnectionPool(host='www.douban.com', port=443): Max retries exceeded with url: /group/topic/141857325/ (Caused by ProxyError('Cannot connect to proxy.', OSError('Tunnel connection failed: 403 Forbidden',)))\n"
     ]
    },
    {
     "name": "stdout",
     "output_type": "stream",
     "text": [
      "proxy: 178.46.157.208:8080\n"
     ]
    },
    {
     "name": "stderr",
     "output_type": "stream",
     "text": [
      "[WARNING] 2019-05-29 18:36:31,521 - https://www.douban.com/group/topic/141857325/ 5 failed!\n",
      "HTTPSConnectionPool(host='www.douban.com', port=443): Max retries exceeded with url: /group/topic/141857325/ (Caused by ProxyError('Cannot connect to proxy.', RemoteDisconnected('Remote end closed connection without response',)))\n"
     ]
    },
    {
     "name": "stdout",
     "output_type": "stream",
     "text": [
      "proxy: 165.22.135.225:8080\n"
     ]
    },
    {
     "name": "stderr",
     "output_type": "stream",
     "text": [
      "[WARNING] 2019-05-29 18:36:33,146 - https://www.douban.com/group/topic/141857325/ 6 failed!\n",
      "HTTPSConnectionPool(host='www.douban.com', port=443): Max retries exceeded with url: /group/topic/141857325/ (Caused by ProxyError('Cannot connect to proxy.', OSError('Tunnel connection failed: 403 Forbidden',)))\n"
     ]
    },
    {
     "name": "stdout",
     "output_type": "stream",
     "text": [
      "proxy: 168.228.229.234:8080\n",
      "proxy: http://168.228.229.234:8080 sucessfully get data from https://www.douban.com/group/topic/141857325/\n",
      "proxy: http://168.228.229.234:8080 sucessfully get data from https://www.douban.com/group/topic/141884089/\n",
      "proxy: http://168.228.229.234:8080 sucessfully get data from https://www.douban.com/group/topic/141834552/\n"
     ]
    },
    {
     "name": "stderr",
     "output_type": "stream",
     "text": [
      "[WARNING] 2019-05-29 18:37:27,545 - https://www.douban.com/group/topic/141804222/ 0 failed!\n",
      "HTTPSConnectionPool(host='www.douban.com', port=443): Max retries exceeded with url: /group/topic/141804222/ (Caused by ProxyError('Cannot connect to proxy.', NewConnectionError('<urllib3.connection.VerifiedHTTPSConnection object at 0x00000233D0D25978>: Failed to establish a new connection: [WinError 10060] 由于连接方在一段时间后没有正确答复或连接的主机没有反应，连接尝试失败。',)))\n"
     ]
    },
    {
     "name": "stdout",
     "output_type": "stream",
     "text": [
      "proxy: 41.60.239.93:8080\n",
      "proxy: http://41.60.239.93:8080 sucessfully get data from https://www.douban.com/group/topic/141804222/\n",
      "proxy: http://41.60.239.93:8080 sucessfully get data from https://www.douban.com/group/topic/141853749/\n",
      "proxy: http://41.60.239.93:8080 sucessfully get data from https://www.douban.com/group/topic/141898081/\n",
      "proxy: http://41.60.239.93:8080 sucessfully get data from https://www.douban.com/group/topic/141827189/\n",
      "proxy: http://41.60.239.93:8080 sucessfully get data from https://www.douban.com/group/topic/141897644/\n"
     ]
    },
    {
     "name": "stderr",
     "output_type": "stream",
     "text": [
      "[WARNING] 2019-05-29 18:38:50,513 - https://www.douban.com/group/topic/141862367/ 0 failed!\n",
      "HTTPSConnectionPool(host='www.douban.com', port=443): Max retries exceeded with url: /group/topic/141862367/ (Caused by ProxyError('Cannot connect to proxy.', NewConnectionError('<urllib3.connection.VerifiedHTTPSConnection object at 0x00000233D0FA3B70>: Failed to establish a new connection: [WinError 10060] 由于连接方在一段时间后没有正确答复或连接的主机没有反应，连接尝试失败。',)))\n"
     ]
    },
    {
     "name": "stdout",
     "output_type": "stream",
     "text": [
      "proxy: 106.10.56.138:80\n"
     ]
    },
    {
     "name": "stderr",
     "output_type": "stream",
     "text": [
      "[WARNING] 2019-05-29 18:39:01,486 - https://www.douban.com/group/topic/141862367/ 1 failed!\n",
      "https://www.douban.com/group/topic/141862367/ HTTP 403\n"
     ]
    },
    {
     "name": "stdout",
     "output_type": "stream",
     "text": [
      "proxy: 188.32.20.79:8197\n"
     ]
    },
    {
     "name": "stderr",
     "output_type": "stream",
     "text": [
      "[WARNING] 2019-05-29 18:39:03,070 - https://www.douban.com/group/topic/141862367/ 2 failed!\n",
      "('Connection aborted.', BadStatusLine('<html>\\r\\n',))\n"
     ]
    },
    {
     "name": "stdout",
     "output_type": "stream",
     "text": [
      "proxy: 117.254.219.177:8080\n",
      "proxy: http://117.254.219.177:8080 sucessfully get data from https://www.douban.com/group/topic/141862367/\n",
      "proxy: http://117.254.219.177:8080 sucessfully get data from https://www.douban.com/group/topic/141896720/\n",
      "proxy: http://117.254.219.177:8080 sucessfully get data from https://www.douban.com/group/topic/135915701/\n",
      "proxy: http://117.254.219.177:8080 sucessfully get data from https://www.douban.com/group/topic/141685645/\n",
      "proxy: http://117.254.219.177:8080 sucessfully get data from https://www.douban.com/group/topic/141182313/\n",
      "proxy: http://117.254.219.177:8080 sucessfully get data from https://www.douban.com/group/topic/141888890/\n",
      "proxy: http://117.254.219.177:8080 sucessfully get data from https://www.douban.com/group/topic/141875780/\n",
      "proxy: http://117.254.219.177:8080 sucessfully get data from https://www.douban.com/group/topic/141865407/\n",
      "proxy: http://117.254.219.177:8080 sucessfully get data from https://www.douban.com/group/topic/141462907/\n",
      "proxy: http://117.254.219.177:8080 sucessfully get data from https://www.douban.com/group/topic/141861611/\n",
      "proxy: http://117.254.219.177:8080 sucessfully get data from https://www.douban.com/group/topic/141864929/\n",
      "proxy: http://117.254.219.177:8080 sucessfully get data from https://www.douban.com/group/topic/141850358/\n",
      "proxy: http://117.254.219.177:8080 sucessfully get data from https://www.douban.com/group/topic/141703882/\n",
      "proxy: http://117.254.219.177:8080 sucessfully get data from https://www.douban.com/group/topic/141840003/\n",
      "proxy: http://117.254.219.177:8080 sucessfully get data from https://www.douban.com/group/topic/141812614/\n"
     ]
    }
   ],
   "source": [
    "dcs = Douban_corpus_spider(is_proxy = True)\n",
    "\n",
    "dcs.run()"
   ]
  }
 ],
 "metadata": {
  "kernelspec": {
   "display_name": "Python 3",
   "language": "python",
   "name": "python3"
  },
  "language_info": {
   "codemirror_mode": {
    "name": "ipython",
    "version": 3
   },
   "file_extension": ".py",
   "mimetype": "text/x-python",
   "name": "python",
   "nbconvert_exporter": "python",
   "pygments_lexer": "ipython3",
   "version": "3.6.4"
  },
  "toc": {
   "base_numbering": 1,
   "nav_menu": {},
   "number_sections": true,
   "sideBar": true,
   "skip_h1_title": false,
   "title_cell": "Table of Contents",
   "title_sidebar": "Contents",
   "toc_cell": false,
   "toc_position": {},
   "toc_section_display": true,
   "toc_window_display": false
  },
  "varInspector": {
   "cols": {
    "lenName": 16,
    "lenType": 16,
    "lenVar": 40
   },
   "kernels_config": {
    "python": {
     "delete_cmd_postfix": "",
     "delete_cmd_prefix": "del ",
     "library": "var_list.py",
     "varRefreshCmd": "print(var_dic_list())"
    },
    "r": {
     "delete_cmd_postfix": ") ",
     "delete_cmd_prefix": "rm(",
     "library": "var_list.r",
     "varRefreshCmd": "cat(var_dic_list()) "
    }
   },
   "types_to_exclude": [
    "module",
    "function",
    "builtin_function_or_method",
    "instance",
    "_Feature"
   ],
   "window_display": false
  }
 },
 "nbformat": 4,
 "nbformat_minor": 2
}
