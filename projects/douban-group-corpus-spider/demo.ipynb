{
 "cells": [
  {
   "cell_type": "code",
   "execution_count": 3,
   "metadata": {},
   "outputs": [
    {
     "name": "stderr",
     "output_type": "stream",
     "text": [
      "C:\\Users\\kenshinpg\\Anaconda3\\lib\\site-packages\\requests\\__init__.py:80: RequestsDependencyWarning: urllib3 (1.24.3) or chardet (3.0.4) doesn't match a supported version!\n",
      "  RequestsDependencyWarning)\n"
     ]
    }
   ],
   "source": [
    "import requests\n",
    "from bs4 import BeautifulSoup\n",
    "\n",
    "def request_douban(url):\n",
    "    try:\n",
    "        response = requests.get(url)\n",
    "        if response.status_code == 200:\n",
    "            return response.text\n",
    "    except requests.RequestException:\n",
    "        return None"
   ]
  },
  {
   "cell_type": "markdown",
   "metadata": {},
   "source": [
    "### 先把所有的小组评论抓下来"
   ]
  },
  {
   "cell_type": "code",
   "execution_count": 4,
   "metadata": {},
   "outputs": [],
   "source": [
    "def spider_links(page):\n",
    "    url = 'https://www.douban.com/group/593625/discussion?start={}'.format(str(page*25))\n",
    "    html = request_douban(url)\n",
    "    soup = BeautifulSoup(html, 'lxml')\n",
    "    list_ = soup.find(class_='olt').find_all('tr')\n",
    "    page_link = []; page_title = []\n",
    "    for item in list_:\n",
    "        try:\n",
    "            page_link.append(item.find('a').get('href'))\n",
    "            page_title.append(item.find('a').get('title'))\n",
    "        except:\n",
    "            continue"
   ]
  },
  {
   "cell_type": "markdown",
   "metadata": {},
   "source": [
    "### 再抓取页面内部的评论"
   ]
  },
  {
   "cell_type": "code",
   "execution_count": 201,
   "metadata": {},
   "outputs": [],
   "source": [
    "def spider_page(url):\n",
    "    # page_link = 'https://www.douban.com/group/topic/138987835/'\n",
    "    html = request_douban(url)\n",
    "    soup = BeautifulSoup(html, 'lxml')\n",
    "    for item in soup.find(type=\"application/ld+json\"):\n",
    "        try:\n",
    "            page_author_diag = json.loads(item)['text']\n",
    "        except:\n",
    "            continue\n",
    "    list_ = soup.find_all(class_='clearfix comment-item reply-item')\n",
    "    page_comments = []\n",
    "    for item in list_:\n",
    "        try:\n",
    "            page_comments.append(item.find('p').contents[0])\n",
    "        except:\n",
    "            continue\n",
    "    return page_author_diag, page_comments"
   ]
  },
  {
   "cell_type": "code",
   "execution_count": 1,
   "metadata": {},
   "outputs": [],
   "source": [
    "import json\n",
    "\n",
    "def json_load(file_path):\n",
    "    with open(file_path) as json_file:\n",
    "        return json.load(json_file)\n",
    "    \n",
    "output_json = json_load('./static/output.json')"
   ]
  },
  {
   "cell_type": "code",
   "execution_count": null,
   "metadata": {},
   "outputs": [],
   "source": [
    "pd.DataFrame(output_json['https://www.douban.com/group/593625/']).T"
   ]
  }
 ],
 "metadata": {
  "kernelspec": {
   "display_name": "Python 3",
   "language": "python",
   "name": "python3"
  },
  "language_info": {
   "codemirror_mode": {
    "name": "ipython",
    "version": 3
   },
   "file_extension": ".py",
   "mimetype": "text/x-python",
   "name": "python",
   "nbconvert_exporter": "python",
   "pygments_lexer": "ipython3",
   "version": "3.6.4"
  },
  "toc": {
   "base_numbering": 1,
   "nav_menu": {},
   "number_sections": true,
   "sideBar": true,
   "skip_h1_title": false,
   "title_cell": "Table of Contents",
   "title_sidebar": "Contents",
   "toc_cell": false,
   "toc_position": {},
   "toc_section_display": true,
   "toc_window_display": false
  },
  "varInspector": {
   "cols": {
    "lenName": 16,
    "lenType": 16,
    "lenVar": 40
   },
   "kernels_config": {
    "python": {
     "delete_cmd_postfix": "",
     "delete_cmd_prefix": "del ",
     "library": "var_list.py",
     "varRefreshCmd": "print(var_dic_list())"
    },
    "r": {
     "delete_cmd_postfix": ") ",
     "delete_cmd_prefix": "rm(",
     "library": "var_list.r",
     "varRefreshCmd": "cat(var_dic_list()) "
    }
   },
   "types_to_exclude": [
    "module",
    "function",
    "builtin_function_or_method",
    "instance",
    "_Feature"
   ],
   "window_display": false
  }
 },
 "nbformat": 4,
 "nbformat_minor": 2
}
