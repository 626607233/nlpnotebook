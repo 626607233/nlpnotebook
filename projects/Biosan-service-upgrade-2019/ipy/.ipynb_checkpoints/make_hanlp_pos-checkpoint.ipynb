{
 "cells": [
  {
   "cell_type": "code",
   "execution_count": 1,
   "metadata": {
    "scrolled": true
   },
   "outputs": [
    {
     "name": "stdout",
     "output_type": "stream",
     "text": [
      "未标注： [测试/vn, 发现/v, 客户/n, 未/d, 调试/v, 好/a, 曝光/vi, 时间/n, ；/w, 2/m, 、/w, 培训/vn, 客户/n, 调试/v, 曝光/vi, 时间/n, ，/w, 测试/vn, 扫描/vn, 正常/a, ；/w, \n",
      "/w, 检查/vn, 仪器/n, Flash/nx, 值/n, 为/p, 1380/m, ，/w, 反馈/vn, 滤光片/gc, 腐蚀/v, ；/w, 用/p, 增强/v, 液/ng, 及/cc, 无水/v, 酒精/n, 清洁/a, 反馈/vn, 滤光片/gc, ；/w, Flash/nx, 下降/vi, 至/p, 1180/m, ；/w, 用/p, Eu/nx, 定标/nz, 液/ng, 重新/d, 校准/v, FLASH/nx, 值/n, 至/p, 1080/m, ；/w, 测试/vn, 实验/vn, 双标/nr, F/nx, 点/qt, 降低/v, 至/p, 330万/m, ，/w, 恢复正常/b, ；/w, \n",
      "/w, 问题/n, ：/w, GSL/nx, 120/m, 黑屏/nz, ，/w, 怀疑/v, 显卡/gi, 故障/n, ，/w, 年度/n, 维护/v, 处理/vn, ：/w, 到场/vi, 后/f, ，/w, 客户/n, 已/d, 更换/v, 显卡/gi, ，/w, 电脑/n, 能/v, 正常/a, 工作/vn, 。/w, 根据/p, 客户/n, 反应/vn, ，/w, 最近/t, 一/m, 次/qv, 有/vyou, 一/m, 张/q, 玻片/gb, 拍到/v, 空白/n, 照片/n, 。/w, 检查/vn, 后/f, 发现/v, 仪器/n, 光源/n, 不/d, 稳定/an, ，/w, 摄像头/n, 画面/n, 明暗/nz, 闪烁/v, 。/w, 询问/v, 得知/v, 客户/n, 最近/t, 自行/d, 跟/p, 换/v, 灯泡/n, ，/w, 检查/vn, 灯泡/n, 发现/v, 瓦/n, 数/n, 不对/a, ，/w, 正常/a, 使用/v, 100/m, w/nx, 的/ude1, 灯泡/n, ，/w, 客户/n, 换上去/v, 的/ude1, 是/vshi, 30/m, w/nx, 换/v, 100/m, w/nx, 灯泡/n, 后/f, 光源/n, 稳定/an, 仪器/n, 全套/n, 校准/v, 结果/n, ：/w, 隔夜/b, 扫/v, 片/q, 正常/a, 。/w, \n",
      "/w, 检查/vn, 确认/v, 仪器/n, 大概/d, 率/v, 不/d, 存在/v, 问题/n, ，/w, 首先/d, 每次/d, 实验/vn, 报/n, clot/nx, 的/ude1, 数量/n, 减少/v, ，/w, 只有/c, 一两/m, 个/q, ，/w, 其次/c, 是/vshi, 报错/nz, 并不/d, 集中于/v, 某/rz, 一根针/nz, ，/w, 3/m, 次/qv, 报错/nz, 分别/d, 是/vshi, 三/m, 根/n, 不同/a, 的/ude1, 加/v, 样/ng, 针/n, 。/w, 进行/vn, 的/ude1, 操作/vn, 是/vshi, 检查/vn, 了/ule, 加/v, 样/ng, 针/n, 的/ude1, 固定/a, 和/cc, 排线/nz, 的/ude1, 链接/gi, ，/w, 重新/d, 校准/v, 了/ule, 液面/nz, 感应/n, 。/w, 并/cc, 对/p, 样本/n, 上/f, 机/ng, 前/f, 处理/vn, ，/w, 同/p, 许主任/nr, 进行/vn, 了/ule, 交流/vn, 。/w, 针对/p, 浙江/ns, 等/udeng, 地/ude2, 的/ude1, 经验/n, ，/w, 即/v, 上/f, 机/ng, 前/f, 用/p, 竹签/n, 再/d, 挑/v, 一下/m, ，/w, 许主任/nr, 暂时/d, 是/vshi, 抵触/vi, 的/ude1, ，/w, 需要/v, 俞勇/nr, 再/d, 去/vf, 教育/vn, 一下/m, 。/w, 客户/n, 反应/vn, 的/ude1, 另/rz, 一个/mq, 洗/v, 板/ng, 机头/n, 容易/ad, 堵/v, 的/ude1, 情况/n, ，/w, 检查/vn, 下来/vf, 没有/v, 发现/v, 什么/ry, 异常/a, ，/w, 清洁/a, 了/ule, 洗/v, 板/ng, 机头/n, 。/w, \n",
      "/w, 对/p, 四/m, 根/n, 加/v, 样/ng, 针/n, 进行/vn, 精度/n, 测试/vn, ：/w, P/nx, 1/m, =/w, 25.33/m, ，/w, P/nx, 2/m, =/w, 25.17/m, ，/w, P/nx, 3/m, =/w, 25.12/m, ，/w, P/nx, 4/m, =/w, 25.23/m, ，/w, 正常/a, ；/w, 进行/vn, 洗/v, 板/ng, 测试/vn, ，/w, 发现/v, 部分/n, 孔/n, 注水/vi, 不满/an, ，/w, 吸/v, 的/ude1, 时候/n, 对应/vi, 的/ude1, 单数/n, 列/v, 第/mq, 四/m, 个/q, 点/qt, 吸/v, 的/ude1, 水吸/nr, 不/d, 干/v, ，/w, 残留/vn, 三/m, 分之一/n, 左右/f, ；/w, 实验/vn, 标准/n, 曲线/n, 不好/a, 是/vshi, 由于/p, 洗/v, 板/ng, 机头/n, 问题/n, ，/w, 清洁/a, 洗/v, 板/ng, 机头/n, ，/w, 并/cc, 指导/vn, 客户/n, 如何/ryv, 清洁/a, ；/w, \n",
      "/w, -washertest/nx, 正常/a, -MeasurementModuleTest/nx, 正常/a, -HighVolumePipetteTest/nx, 正常/a, -LowVolumePipetteTest/nx, 正常/a]\n",
      "标注后： [测试/vn, 发现/v, 客户/n, 未/d, 调试/v, 好/a, 曝光/vi, 时间/n, ；/w, 2/m, 、/w, 培训/vn, 客户/n, 调试/v, 曝光/vn, 时间/n, ，/w, 测试/vn, 扫描/vn, 正常/a, ；/w, \n",
      "/w, 检查/vn, 仪器/n, Flash/nx, 值/n, 为/p, 1380/m, ，/w, 反馈/vn, 滤光片/gc, 腐蚀/v, ；/w, 用/p, 增强/v, 液/ng, 及/cc, 无水/v, 酒精/n, 清洁/a, 反馈/vn, 滤光片/gc, ；/w, Flash/nx, 下降/vi, 至/p, 1180/m, ；/w, 用/p, Eu/nx, 定标/nz, 液/ng, 重新/d, 校准/v, FLASH/nx, 值/n, 至/p, 1080/m, ；/w, 测试/vn, 实验/vn, 双标/nr, F/nx, 点/qt, 降低/v, 至/p, 330万/m, ，/w, 恢复正常/b, ；/w, \n",
      "/w, 问题/n, ：/w, GSL/nx, 120/m, 黑屏/nz, ，/w, 怀疑/v, 显卡/gi, 故障/n, ，/w, 年度/n, 维护/v, 处理/vn, ：/w, 到场/vi, 后/f, ，/w, 客户/n, 已/d, 更换/v, 显卡/gi, ，/w, 电脑/n, 能/v, 正常/a, 工作/vn, 。/w, 根据/p, 客户/n, 反应/vn, ，/w, 最近/t, 一/m, 次/qv, 有/vyou, 一/m, 张/q, 玻片/gb, 拍到/v, 空白/n, 照片/n, 。/w, 检查/vn, 后/f, 发现/v, 仪器/n, 光源/n, 不/d, 稳定/an, ，/w, 摄像头/n, 画面/n, 明暗/nz, 闪烁/v, 。/w, 询问/v, 得知/v, 客户/n, 最近/t, 自行/d, 跟/p, 换/v, 灯泡/n, ，/w, 检查/vn, 灯泡/n, 发现/v, 瓦/n, 数/n, 不对/a, ，/w, 正常/a, 使用/v, 100/m, w/nx, 的/ude1, 灯泡/n, ，/w, 客户/n, 换上去/v, 的/ude1, 是/vshi, 30/m, w/nx, 换/v, 100/m, w/nx, 灯泡/n, 后/f, 光源/n, 稳定/an, 仪器/n, 全套/n, 校准/v, 结果/n, ：/w, 隔夜/b, 扫/v, 片/q, 正常/a, 。/w, \n",
      "/w, 检查/vn, 确认/v, 仪器/n, 大概/d, 率/v, 不/d, 存在/v, 问题/n, ，/w, 首先/d, 每次/d, 实验/vn, 报/n, clot/nx, 的/ude1, 数量/n, 减少/v, ，/w, 只有/c, 一两/m, 个/q, ，/w, 其次/c, 是/vshi, 报错/nz, 并不/d, 集中于/v, 某/rz, 一根针/nz, ，/w, 3/m, 次/qv, 报错/nz, 分别/d, 是/vshi, 三/m, 根/n, 不同/a, 的/ude1, 加/v, 样/ng, 针/n, 。/w, 进行/vn, 的/ude1, 操作/vn, 是/vshi, 检查/vn, 了/ule, 加/v, 样/ng, 针/n, 的/ude1, 固定/a, 和/cc, 排线/nz, 的/ude1, 链接/gi, ，/w, 重新/d, 校准/v, 了/ule, 液面/nz, 感应/n, 。/w, 并/cc, 对/p, 样本/n, 上/f, 机/ng, 前/f, 处理/vn, ，/w, 同/p, 许主任/nr, 进行/vn, 了/ule, 交流/vn, 。/w, 针对/p, 浙江/ns, 等/udeng, 地/ude2, 的/ude1, 经验/n, ，/w, 即/v, 上/f, 机/ng, 前/f, 用/p, 竹签/n, 再/d, 挑/v, 一下/m, ，/w, 许主任/nr, 暂时/d, 是/vshi, 抵触/vi, 的/ude1, ，/w, 需要/v, 俞勇/nr, 再/d, 去/vf, 教育/vn, 一下/m, 。/w, 客户/n, 反应/vn, 的/ude1, 另/rz, 一个/mq, 洗/v, 板/ng, 机头/n, 容易/ad, 堵/v, 的/ude1, 情况/n, ，/w, 检查/vn, 下来/vf, 没有/v, 发现/v, 什么/ry, 异常/a, ，/w, 清洁/a, 了/ule, 洗/v, 板/ng, 机头/n, 。/w, \n",
      "/w, 对/p, 四/m, 根/n, 加/v, 样/ng, 针/n, 进行/vn, 精度/n, 测试/vn, ：/w, P/nx, 1/m, =/w, 25.33/m, ，/w, P/nx, 2/m, =/w, 25.17/m, ，/w, P/nx, 3/m, =/w, 25.12/m, ，/w, P/nx, 4/m, =/w, 25.23/m, ，/w, 正常/a, ；/w, 进行/vn, 洗/v, 板/ng, 测试/vn, ，/w, 发现/v, 部分/n, 孔/n, 注水/vi, 不满/an, ，/w, 吸/v, 的/ude1, 时候/n, 对应/vi, 的/ude1, 单数/n, 列/v, 第/mq, 四/m, 个/q, 点/qt, 吸/v, 的/ude1, 水吸/nr, 不/d, 干/v, ，/w, 残留/vn, 三/m, 分之一/n, 左右/f, ；/w, 实验/vn, 标准/n, 曲线/n, 不好/a, 是/vshi, 由于/p, 洗/v, 板/ng, 机头/n, 问题/n, ，/w, 清洁/a, 洗/v, 板/ng, 机头/n, ，/w, 并/cc, 指导/vn, 客户/n, 如何/ryv, 清洁/a, ；/w, \n",
      "/w, -washertest/nx, 正常/a, -MeasurementModuleTest/nx, 正常/a, -HighVolumePipetteTest/nx, 正常/a, -LowVolumePipetteTest/nx, 正常/a]\n"
     ]
    }
   ],
   "source": [
    "from pyhanlp import *\n",
    "\n",
    "Segment = JClass(\"com.hankcs.hanlp.seg.Segment\")\n",
    "text = \"\"\"测试发现客户未调试好曝光时间；2、培训客户调试曝光时间，测试扫描正常；\n",
    "检查仪器Flash值为1380，反馈滤光片腐蚀；用增强液及无水酒精清洁反馈滤光片；Flash下降至1180；用Eu定标液重新校准FLASH值至1080；测试实验双标F点降低至330万，恢复正常；\n",
    "问题：GSL120黑屏，怀疑显卡故障，年度维护处理：到场后，客户已更换显卡，电脑能正常工作。根据客户反应，最近一次有一张玻片拍到空白照片。检查后发现仪器光源不稳定，摄像头画面明暗闪烁。询问得知客户最近自行跟换灯泡，检查灯泡发现瓦数不对，正常使用100w的灯泡，客户换上去的是30w换100w灯泡后光源稳定仪器全套校准结果：隔夜扫片正常。\n",
    "检查确认仪器大概率不存在问题，首先每次实验报clot的数量减少，只有一两个，其次是报错并不集中于某一根针，3次报错分别是三根不同的加样针。进行的操作是检查了加样针的固定和排线的链接，重新校准了液面感应。并对样本上机前处理，同许主任进行了交流。针对浙江等地的经验，即上机前用竹签再挑一下，许主任暂时是抵触的，需要俞勇再去教育一下。客户反应的另一个洗板机头容易堵的情况，检查下来没有发现什么异常，清洁了洗板机头。\n",
    "对四根加样针进行精度测试：P1=25.33，P2=25.17，P3=25.12，P4=25.23，正常；进行洗板测试，发现部分孔注水不满，吸的时候对应的单数列第四个点吸的水吸不干，残留三分之一左右；实验标准曲线不好是由于洗板机头问题，清洁洗板机头，并指导客户如何清洁；\n",
    "-washertest正常-MeasurementModuleTest正常-HighVolumePipetteTest正常-LowVolumePipetteTest正常\"\"\"\n",
    "segment = HanLP.newSegment()\n",
    "\n",
    "print(\"未标注：\", segment.seg(text))\n",
    "segment.enablePartOfSpeechTagging(True)\n",
    "print(\"标注后：\", segment.seg(text))"
   ]
  },
  {
   "cell_type": "code",
   "execution_count": 2,
   "metadata": {},
   "outputs": [
    {
     "name": "stdout",
     "output_type": "stream",
     "text": [
      "[攻城/vi, 狮/ng, 逆袭/nz, 单身/n, 狗/n, ，/w, 迎娶/v, 白富美/nr, ，/w, 走上/v, 人生/n, 巅峰/n]\n",
      "[攻城狮/nz, 逆袭/nz, 单身狗/nz, ，/w, 迎娶/v, 白富美/nz, ，/w, 走上/v, 人生/n, 巅峰/n]\n"
     ]
    }
   ],
   "source": [
    "text = \"攻城狮逆袭单身狗，迎娶白富美，走上人生巅峰\"  # 怎么可能噗哈哈！\n",
    "print(HanLP.segment(text))\n",
    "\n",
    "CustomDictionary = JClass(\"com.hankcs.hanlp.dictionary.CustomDictionary\")\n",
    "CustomDictionary.add(\"攻城狮\")  # 动态增加\n",
    "CustomDictionary.insert(\"白富美\", \"nz 1024\")  # 强行插入\n",
    "#CustomDictionary.remove(\"攻城狮\"); # 删除词语（注释掉试试）\n",
    "CustomDictionary.add(\"单身狗\", \"nz 1024 n 1\")\n",
    "#print(CustomDictionary.get(\"单身狗\"))\n",
    "\n",
    "print(HanLP.segment(text))"
   ]
  },
  {
   "cell_type": "code",
   "execution_count": 7,
   "metadata": {},
   "outputs": [],
   "source": [
    "import codecs\n",
    "import jieba\n",
    "import jieba.posseg as pseg"
   ]
  },
  {
   "cell_type": "code",
   "execution_count": 29,
   "metadata": {},
   "outputs": [],
   "source": [
    "input_file = '../source/words/problem.txt'\n",
    "\n",
    "def hanlp_adduserdict(file):\n",
    "    with open(input_file,  encoding='UTF-8') as f:\n",
    "        lines = []\n",
    "        words = []\n",
    "        for line in f:\n",
    "            contends = line.strip()\n",
    "            word = line.strip().split(' ')[0]\n",
    "            if contends.startswith(\"-DOCSTART-\"):\n",
    "                words.append('')\n",
    "                continue\n",
    "            # if len(contends) == 0 and words[-1] == '。':\n",
    "            if len(contends) == 0:\n",
    "                w = ' '.join([word for word in words if len(word) > 0])\n",
    "                lines.append([w])\n",
    "                words = []\n",
    "                continue\n",
    "            words.append(word)\n",
    "    CustomDictionary = JClass(\"com.hankcs.hanlp.dictionary.CustomDictionary\")\n",
    "    for w in words:\n",
    "        CustomDictionary.insert(w, \"nz 1024 n 1\")"
   ]
  },
  {
   "cell_type": "code",
   "execution_count": 30,
   "metadata": {},
   "outputs": [],
   "source": [
    "hanlp_adduserdict(input_file)"
   ]
  },
  {
   "cell_type": "code",
   "execution_count": 35,
   "metadata": {},
   "outputs": [
    {
     "name": "stdout",
     "output_type": "stream",
     "text": [
      "[测试/vn, 发现/v, 客户/n, 未/d, 调试/v, 好/a, 曝光/vi, 时间/n, ；/w, 2/m, 、/w, 培训/vn, 客户/n, 调试/v, 曝光/vi, 时间/n, ，/w, 测试/vn, 扫描/vn, 正常/a, ；/w, \n",
      "/w, 检查/vn, 仪器/n, Flash/nx, 值/n, 为/p, 1380/m, ，/w, 反馈/vn, 滤光片/nz, 腐蚀/v, ；/w, 用/p, 增强液/nz, 及/cc, 无水/v, 酒精/n, 清洁/a, 反馈/vn, 滤光片/nz, ；/w, Flash/nx, 下降/vi, 至/p, 1180/m, ；/w, 用/p, Eu/nx, 定标/nz, 液/ng, 重新/d, 校准/v, FLASH/nx, 值/n, 至/p, 1080/m, ；/w, 测试/vn, 实验/vn, 双标/nr, F/nx, 点/qt, 降低/v, 至/p, 330万/m, ，/w, 恢复正常/b, ；/w, \n",
      "/w, 问题/n, ：/w, GSL/nz, 120/nz, 黑屏/nz, ，/w, 怀疑/v, 显卡/gi, 故障/n, ，/w, 年度维护/nz, 处理/vn, ：/w, 到场/vi, 后/f, ，/w, 客户/n, 已/d, 更换/v, 显卡/gi, ，/w, 电脑/n, 能/v, 正常/a, 工作/vn, 。/w, 根据/p, 客户/n, 反应/vn, ，/w, 最近/t, 一/m, 次/qv, 有/vyou, 一/m, 张/q, 玻片/gb, 拍到/v, 空白/n, 照片/n, 。/w, 检查/vn, 后/f, 发现/v, 仪器/n, 光源/n, 不/d, 稳定/an, ，/w, 摄像头/n, 画面/n, 明暗/nz, 闪烁/v, 。/w, 询问/v, 得知/v, 客户/n, 最近/t, 自行/d, 跟/p, 换/v, 灯泡/n, ，/w, 检查/vn, 灯泡/n, 发现/v, 瓦/n, 数/n, 不对/a, ，/w, 正常/a, 使用/v, 100/m, w/nx, 的/ude1, 灯泡/n, ，/w, 客户/n, 换上去/v, 的/ude1, 是/vshi, 30/m, w/nx, 换/v, 100/m, w/nx, 灯泡/n, 后/f, 光源/n, 稳定/an, 仪器/n, 全套/n, 校准/v, 结果/n, ：/w, 隔夜/b, 扫片/nz, 正常/a, 。/w, \n",
      "/w, 检查/vn, 确认/v, 仪器/n, 大概/d, 率/v, 不/d, 存在/v, 问题/n, ，/w, 首先/d, 每次/d, 实验/vn, 报/n, clot/nz, 的/ude1, 数量/n, 减少/v, ，/w, 只有/c, 一两/m, 个/q, ，/w, 其次/c, 是/vshi, 报错/nz, 并不/d, 集中于/v, 某/rz, 一根针/nz, ，/w, 3/m, 次/qv, 报错/nz, 分别/d, 是/vshi, 三/m, 根/n, 不同/a, 的/ude1, 加样针/nz, 。/w, 进行/vn, 的/ude1, 操作/vn, 是/vshi, 检查/vn, 了/ule, 加样针/nz, 的/ude1, 固定/a, 和/cc, 排线/nz, 的/ude1, 链接/gi, ，/w, 重新/d, 校准/v, 了/ule, 液面/nz, 感应/n, 。/w, 并/cc, 对/p, 样本/n, 上/f, 机/ng, 前/f, 处理/vn, ，/w, 同/p, 许主任/nr, 进行/vn, 了/ule, 交流/vn, 。/w, 针对/p, 浙江/ns, 等/udeng, 地/ude2, 的/ude1, 经验/n, ，/w, 即/v, 上/f, 机/ng, 前/f, 用/p, 竹签/n, 再/d, 挑/v, 一下/m, ，/w, 许主任/nr, 暂时/d, 是/vshi, 抵触/vi, 的/ude1, ，/w, 需要/v, 俞勇/nr, 再/d, 去/vf, 教育/vn, 一下/m, 。/w, 客户/n, 反应/vn, 的/ude1, 另/rz, 一个/mq, 洗板/nz, 机头/n, 容易/ad, 堵/v, 的/ude1, 情况/n, ，/w, 检查/vn, 下来/vf, 没有/v, 发现/v, 什么/ry, 异常/a, ，/w, 清洁/a, 了/ule, 洗板/nz, 机头/n, 。/w, \n",
      "/w, 对/p, 四/m, 根/n, 加样针/nz, 进行/vn, 精度/n, 测试/vn, ：/w, P/nx, 1/m, =/w, 25.33/m, ，/w, P/nx, 2/m, =/w, 25.17/m, ，/w, P/nx, 3/m, =/w, 25.12/m, ，/w, P/nx, 4/m, =/w, 25.23/m, ，/w, 正常/a, ；/w, 进行/vn, 洗板/nz, 测试/vn, ，/w, 发现/v, 部分/n, 孔/n, 注水/vi, 不满/an, ，/w, 吸/v, 的/ude1, 时候/n, 对应/vi, 的/ude1, 单数/n, 列/v, 第/mq, 四/m, 个/q, 点/qt, 吸/v, 的/ude1, 水吸/nr, 不/d, 干/v, ，/w, 残留/vn, 三/m, 分之一/n, 左右/f, ；/w, 实验/vn, 标准曲线/nz, 不好/a, 是/vshi, 由于/p, 洗板/nz, 机头/n, 问题/n, ，/w, 清洁/a, 洗板/nz, 机头/n, ，/w, 并/cc, 指导/vn, 客户/n, 如何/ryv, 清洁/a, ；/w, \n",
      "/w, -washertest/nx, 正常/a, -MeasurementModuleTest/nx, 正常/a, -HighVolumePipetteTest/nx, 正常/a, -LowVolumePipetteTest/nx, 正常/a]\n"
     ]
    }
   ],
   "source": [
    "text = \"\"\"测试发现客户未调试好曝光时间；2、培训客户调试曝光时间，测试扫描正常；\n",
    "检查仪器Flash值为1380，反馈滤光片腐蚀；用增强液及无水酒精清洁反馈滤光片；Flash下降至1180；用Eu定标液重新校准FLASH值至1080；测试实验双标F点降低至330万，恢复正常；\n",
    "问题：GSL120黑屏，怀疑显卡故障，年度维护处理：到场后，客户已更换显卡，电脑能正常工作。根据客户反应，最近一次有一张玻片拍到空白照片。检查后发现仪器光源不稳定，摄像头画面明暗闪烁。询问得知客户最近自行跟换灯泡，检查灯泡发现瓦数不对，正常使用100w的灯泡，客户换上去的是30w换100w灯泡后光源稳定仪器全套校准结果：隔夜扫片正常。\n",
    "检查确认仪器大概率不存在问题，首先每次实验报clot的数量减少，只有一两个，其次是报错并不集中于某一根针，3次报错分别是三根不同的加样针。进行的操作是检查了加样针的固定和排线的链接，重新校准了液面感应。并对样本上机前处理，同许主任进行了交流。针对浙江等地的经验，即上机前用竹签再挑一下，许主任暂时是抵触的，需要俞勇再去教育一下。客户反应的另一个洗板机头容易堵的情况，检查下来没有发现什么异常，清洁了洗板机头。\n",
    "对四根加样针进行精度测试：P1=25.33，P2=25.17，P3=25.12，P4=25.23，正常；进行洗板测试，发现部分孔注水不满，吸的时候对应的单数列第四个点吸的水吸不干，残留三分之一左右；实验标准曲线不好是由于洗板机头问题，清洁洗板机头，并指导客户如何清洁；\n",
    "-washertest正常-MeasurementModuleTest正常-HighVolumePipetteTest正常-LowVolumePipetteTest正常\"\"\"\n",
    "\n",
    "Segment = JClass(\"com.hankcs.hanlp.seg.Segment\")\n",
    "segment = HanLP.newSegment()\n",
    "print(segment.seg(text))"
   ]
  }
 ],
 "metadata": {
  "kernelspec": {
   "display_name": "Python 3",
   "language": "python",
   "name": "python3"
  },
  "language_info": {
   "codemirror_mode": {
    "name": "ipython",
    "version": 3
   },
   "file_extension": ".py",
   "mimetype": "text/x-python",
   "name": "python",
   "nbconvert_exporter": "python",
   "pygments_lexer": "ipython3",
   "version": "3.6.4"
  },
  "toc": {
   "base_numbering": 1,
   "nav_menu": {},
   "number_sections": true,
   "sideBar": true,
   "skip_h1_title": false,
   "title_cell": "Table of Contents",
   "title_sidebar": "Contents",
   "toc_cell": false,
   "toc_position": {},
   "toc_section_display": true,
   "toc_window_display": false
  },
  "varInspector": {
   "cols": {
    "lenName": 16,
    "lenType": 16,
    "lenVar": 40
   },
   "kernels_config": {
    "python": {
     "delete_cmd_postfix": "",
     "delete_cmd_prefix": "del ",
     "library": "var_list.py",
     "varRefreshCmd": "print(var_dic_list())"
    },
    "r": {
     "delete_cmd_postfix": ") ",
     "delete_cmd_prefix": "rm(",
     "library": "var_list.r",
     "varRefreshCmd": "cat(var_dic_list()) "
    }
   },
   "types_to_exclude": [
    "module",
    "function",
    "builtin_function_or_method",
    "instance",
    "_Feature"
   ],
   "window_display": false
  }
 },
 "nbformat": 4,
 "nbformat_minor": 2
}
